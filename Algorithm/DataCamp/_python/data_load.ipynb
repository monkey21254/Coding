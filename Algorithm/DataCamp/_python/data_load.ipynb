{
 "cells": [
  {
   "cell_type": "markdown",
   "metadata": {},
   "source": [
    "### Other file types\n",
    "\n",
    "1. 종류\n",
    "- Excel\n",
    "- SAS\n",
    "- MATLAB\n",
    "- Stata\n",
    "- HDF5\n",
    "- Pickled >> Serialized\n",
    "- JSON"
   ]
  },
  {
   "cell_type": "code",
   "execution_count": null,
   "metadata": {},
   "outputs": [],
   "source": [
    "# Import pickle package\n",
    "import pickle\n",
    "\n",
    "# Open pickle file and load data: d\n",
    "with open('data.pkl', 'rb') as file:\n",
    "    a = iter(file)\n",
    "    # print(next(a))\n",
    "    # next(a) >> b'\\x80\\x03}q\\x00(X\\x04\\x00\\x00\\x00Juneq\\x01X\\x04\\x00\\x00\\x0069.4q\\x02X\\x03\\x00\\x00\\x00Augq\\x03X\\x02\\x00\\x00\\x0085q\\x04X\\x07\\x00\\x00\\x00Airlineq\\x05X\\x01\\x00\\x00\\x008q\\x06X\\x03\\x00\\x00\\x00Marq\\x07X\\x04\\x00\\x00\\x0084.4q\\x08u.'\n",
    "    d = pickle.load(file)\n",
    "\n",
    "# Print d\n",
    "print(d) # {'June': '69.4', 'Aug': '85', 'Airline': '8', 'Mar': '84.4'}\n",
    "\n",
    "# Print datatype of d\n",
    "print(type(d)) # <class: 'dict'>"
   ]
  },
  {
   "cell_type": "code",
   "execution_count": null,
   "metadata": {},
   "outputs": [],
   "source": []
  },
  {
   "cell_type": "code",
   "execution_count": null,
   "metadata": {},
   "outputs": [],
   "source": []
  },
  {
   "cell_type": "code",
   "execution_count": null,
   "metadata": {},
   "outputs": [],
   "source": []
  },
  {
   "cell_type": "code",
   "execution_count": null,
   "metadata": {},
   "outputs": [],
   "source": []
  }
 ],
 "metadata": {
  "interpreter": {
   "hash": "a8f61be024eba58adef938c9aa1e29e02cb3dece83a5348b1a2dafd16a070453"
  },
  "kernelspec": {
   "display_name": "Python 3.8.3 64-bit ('base': conda)",
   "language": "python",
   "name": "python3"
  },
  "language_info": {
   "codemirror_mode": {
    "name": "ipython",
    "version": 3
   },
   "file_extension": ".py",
   "mimetype": "text/x-python",
   "name": "python",
   "nbconvert_exporter": "python",
   "pygments_lexer": "ipython3",
   "version": "3.8.3"
  },
  "orig_nbformat": 4
 },
 "nbformat": 4,
 "nbformat_minor": 2
}
