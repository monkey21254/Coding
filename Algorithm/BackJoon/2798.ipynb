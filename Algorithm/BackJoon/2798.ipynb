{
 "cells": [
  {
   "cell_type": "code",
   "execution_count": 7,
   "metadata": {},
   "outputs": [
    {
     "name": "stdout",
     "output_type": "stream",
     "text": [
      "21\n"
     ]
    }
   ],
   "source": [
    "card_num, max_num = map(int, input().split())\n",
    "cards = list(map(int, input().split()))\n",
    "\n",
    "ans = 0\n",
    "for i in range(card_num):\n",
    "    for j in range(i+1, card_num):\n",
    "        for k in range(j+1, card_num):\n",
    "            if cards[i]+cards[j]+cards[k] <= max_num and cards[i]+cards[j]+cards[k] > ans:\n",
    "                ans = cards[i]+cards[j]+cards[k]\n",
    "           \n",
    "print(ans)"
   ]
  },
  {
   "cell_type": "code",
   "execution_count": null,
   "metadata": {},
   "outputs": [],
   "source": []
  }
 ],
 "metadata": {
  "interpreter": {
   "hash": "a8f61be024eba58adef938c9aa1e29e02cb3dece83a5348b1a2dafd16a070453"
  },
  "kernelspec": {
   "display_name": "Python 3.8.3 ('base')",
   "language": "python",
   "name": "python3"
  },
  "language_info": {
   "codemirror_mode": {
    "name": "ipython",
    "version": 3
   },
   "file_extension": ".py",
   "mimetype": "text/x-python",
   "name": "python",
   "nbconvert_exporter": "python",
   "pygments_lexer": "ipython3",
   "version": "3.8.3"
  },
  "orig_nbformat": 4
 },
 "nbformat": 4,
 "nbformat_minor": 2
}
