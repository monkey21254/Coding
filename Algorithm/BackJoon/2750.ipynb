{
 "cells": [
  {
   "cell_type": "code",
   "execution_count": null,
   "metadata": {},
   "outputs": [],
   "source": [
    "# 삽입, 버블, 병합, 힙, 카운팅, 안정(stable)\n",
    "# 선택, 셸, 퀵\n",
    "# N개의 수가 주어졌을 때,\n",
    "# 이를 오름차순으로 정렬하는 프로그램을 작성하시오."
   ]
  },
  {
   "cell_type": "code",
   "execution_count": 55,
   "metadata": {},
   "outputs": [],
   "source": [
    "total_num = int(input())\n",
    "num_list = list()\n",
    "for i in range(total_num):\n",
    "    item = int(input())\n",
    "    num_list.append(item)"
   ]
  },
  {
   "cell_type": "markdown",
   "metadata": {},
   "source": [
    "#### Insert(삽입) sort"
   ]
  },
  {
   "cell_type": "code",
   "execution_count": 56,
   "metadata": {},
   "outputs": [
    {
     "name": "stdout",
     "output_type": "stream",
     "text": [
      "1\n",
      "2\n",
      "3\n",
      "4\n",
      "5\n",
      "6\n",
      "7\n"
     ]
    }
   ],
   "source": [
    "for i in range(1, total_num):\n",
    "    iterator = i\n",
    "    for j in range(i, 0, -1):\n",
    "        if num_list[j] > num_list[j-1]:\n",
    "            continue\n",
    "        else:\n",
    "            temp = num_list[j-1]\n",
    "            num_list[j-1] = num_list[j]\n",
    "            num_list[j] = temp\n",
    "\n",
    "for item in num_list:\n",
    "    print(item)"
   ]
  },
  {
   "cell_type": "markdown",
   "metadata": {},
   "source": [
    "#### Bubble(버블) sort"
   ]
  },
  {
   "cell_type": "code",
   "execution_count": 57,
   "metadata": {},
   "outputs": [
    {
     "name": "stdout",
     "output_type": "stream",
     "text": [
      "1\n",
      "2\n",
      "3\n",
      "4\n",
      "5\n",
      "6\n",
      "7\n"
     ]
    }
   ],
   "source": [
    "for i in range(1, total_num-1):\n",
    "    if num_list[i] < num_list[i+1]:\n",
    "        continue\n",
    "    else:\n",
    "        temp = num_list[i+1]\n",
    "        num_list[i+1] = num_list[i]\n",
    "        num_list[i] = temp\n",
    "\n",
    "for item in num_list:\n",
    "    print(item)"
   ]
  },
  {
   "cell_type": "markdown",
   "metadata": {},
   "source": [
    "#### Shell(셸) sort"
   ]
  },
  {
   "cell_type": "code",
   "execution_count": 58,
   "metadata": {},
   "outputs": [
    {
     "name": "stdout",
     "output_type": "stream",
     "text": [
      "[1, 2, 3, 4, 5, 6, 7]\n"
     ]
    }
   ],
   "source": [
    "def insertion_sort(container, first, last, gap):\n",
    "    for i in range(first + gap, last, gap):\n",
    "        for j in range(i, first, -1*gap):\n",
    "            if container[j] > container[j-gap]:\n",
    "                continue\n",
    "            else:\n",
    "                temp = container[j-gap]\n",
    "                container[j-gap] = container[j]\n",
    "                container[j] = temp\n",
    "    return container\n",
    "\n",
    "gap = total_num//2\n",
    "while gap//2 != 0:\n",
    "    for i in range(gap):\n",
    "        num_list = insertion_sort(num_list, i, total_num, gap)\n",
    "        \n",
    "    gap //= 2\n",
    "    if gap % 2 == 0:\n",
    "        gap += 1\n",
    "\n",
    "print(num_list)"
   ]
  },
  {
   "cell_type": "markdown",
   "metadata": {},
   "source": [
    "#### Merge sort"
   ]
  },
  {
   "cell_type": "code",
   "execution_count": null,
   "metadata": {},
   "outputs": [],
   "source": []
  },
  {
   "cell_type": "markdown",
   "metadata": {},
   "source": [
    "#### Heap sort"
   ]
  },
  {
   "cell_type": "code",
   "execution_count": null,
   "metadata": {},
   "outputs": [],
   "source": []
  },
  {
   "cell_type": "markdown",
   "metadata": {},
   "source": [
    "#### Counting sort"
   ]
  },
  {
   "cell_type": "code",
   "execution_count": null,
   "metadata": {},
   "outputs": [],
   "source": []
  },
  {
   "cell_type": "markdown",
   "metadata": {},
   "source": [
    "#### Stable Sort"
   ]
  },
  {
   "cell_type": "code",
   "execution_count": null,
   "metadata": {},
   "outputs": [],
   "source": []
  }
 ],
 "metadata": {
  "interpreter": {
   "hash": "a8f61be024eba58adef938c9aa1e29e02cb3dece83a5348b1a2dafd16a070453"
  },
  "kernelspec": {
   "display_name": "Python 3.8.3 ('base')",
   "language": "python",
   "name": "python3"
  },
  "language_info": {
   "codemirror_mode": {
    "name": "ipython",
    "version": 3
   },
   "file_extension": ".py",
   "mimetype": "text/x-python",
   "name": "python",
   "nbconvert_exporter": "python",
   "pygments_lexer": "ipython3",
   "version": "3.8.3"
  },
  "orig_nbformat": 4
 },
 "nbformat": 4,
 "nbformat_minor": 2
}
