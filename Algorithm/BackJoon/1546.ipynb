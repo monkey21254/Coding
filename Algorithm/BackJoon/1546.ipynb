{
 "cells": [
  {
   "cell_type": "code",
   "execution_count": 17,
   "metadata": {},
   "outputs": [
    {
     "name": "stdout",
     "output_type": "stream",
     "text": [
      "5 [1, 2, 4, 8, 16] [6.25, 12.5, 25.0, 50.0, 100.0]\n",
      "38.75\n"
     ]
    }
   ],
   "source": [
    "test_num = int(input())\n",
    "score_list = input()\n",
    "score_list = [int(x) for x in score_list.split()]\n",
    "\n",
    "max_num = max(score_list)\n",
    "mapped_list = list(map(lambda x: x*100/max_num, score_list))\n",
    "\n",
    "# print(test_num, score_list, mapped_list)\n",
    "print(sum(mapped_list)/len(mapped_list))"
   ]
  },
  {
   "cell_type": "code",
   "execution_count": null,
   "metadata": {},
   "outputs": [],
   "source": []
  }
 ],
 "metadata": {
  "interpreter": {
   "hash": "3a61b7b83e458b12ef92bcb36bb1978123ef214920c2173bd2b9a204e4ae1c20"
  },
  "kernelspec": {
   "display_name": "Python 3.9.1 64-bit",
   "language": "python",
   "name": "python3"
  },
  "language_info": {
   "codemirror_mode": {
    "name": "ipython",
    "version": 3
   },
   "file_extension": ".py",
   "mimetype": "text/x-python",
   "name": "python",
   "nbconvert_exporter": "python",
   "pygments_lexer": "ipython3",
   "version": "3.9.1"
  },
  "orig_nbformat": 4
 },
 "nbformat": 4,
 "nbformat_minor": 2
}
