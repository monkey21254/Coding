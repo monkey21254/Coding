{
 "cells": [
  {
   "cell_type": "markdown",
   "metadata": {},
   "source": [
    "# 그래프 탐색\n",
    "\n",
    "[ DFS와 BFS ]\n",
    "- 문제  \n",
    "  : 그래프를 DFS로 탐색한 결과와 BFS로 탐색한 결과를 출력하는 프로그램을 작성하시오. 단, 방문할 수 있는 정점이 여러 개인 경우에는 정점 번호가 작은 것을 먼저 방문하고, 더 이상 방문할 수 있는 점이 없는 경우 종료한다. 정점 번호는 1번부터 N번까지이다. \n",
    "- 입력\n",
    "  : 첫째 줄에 정점의 개수 N(1 ≤ N ≤ 1,000), 간선의 개수 M(1 ≤ M ≤ 10,000), 탐색을 시작할 정점의 번호 V가 주어진다. 다음 M개의 줄에는 간선이 연결하는 두 정점의 번호가 주어진다. 어떤 두 정점 사이에 여러 개의 간선이 있을 수 있다. 입력으로 주어지는 간선은 양방향이다.\n",
    "- 출력\n",
    "  : 첫째 줄에 DFS를 수행한 결과를, 그 다음 줄에는 BFS를 수행한 결과를 출력한다. V부터 방문된 점을 순서대로 출력하면 된다."
   ]
  },
  {
   "cell_type": "code",
   "execution_count": 115,
   "metadata": {},
   "outputs": [],
   "source": [
    "vertex_num, edge_num, start = input().split(' ')\n",
    "\n",
    "vertex_num = int(vertex_num)\n",
    "edge_num = int(edge_num)\n",
    "start = int(start)\n",
    "\n",
    "graph_list = []\n",
    "for i in range(edge_num):\n",
    "    x1, x2 = input().split(' ')\n",
    "    graph_list.append([int(x1), int(x2)])"
   ]
  },
  {
   "cell_type": "code",
   "execution_count": 116,
   "metadata": {},
   "outputs": [
    {
     "data": {
      "text/plain": [
       "(4, 5, 1, [[1, 2], [1, 3], [1, 4], [2, 4], [3, 4]])"
      ]
     },
     "execution_count": 116,
     "metadata": {},
     "output_type": "execute_result"
    }
   ],
   "source": [
    "vertex_num, edge_num, start, graph_list"
   ]
  },
  {
   "cell_type": "markdown",
   "metadata": {},
   "source": [
    "### DFS\n",
    "\n",
    "- 리스트 중복 제거 but 순서 유지\n",
    ": https://m31phy.tistory.com/130"
   ]
  },
  {
   "cell_type": "code",
   "execution_count": 117,
   "metadata": {},
   "outputs": [
    {
     "name": "stdout",
     "output_type": "stream",
     "text": [
      "[1, 2, 4, 3]\n"
     ]
    }
   ],
   "source": [
    "def DFS(graph, root, max_num):\n",
    "    visited = []\n",
    "    stack = [root]\n",
    "    \n",
    "    graph_dict = {}\n",
    "    for items in graph: # 함수화 필요\n",
    "        for item in items:\n",
    "            if graph_dict.get(item) == None:\n",
    "                graph_dict[item] = set()\n",
    "            graph_dict[item].update(set(items) - set([item]))\n",
    "    \n",
    "    while stack:\n",
    "        n = stack.pop(0)\n",
    "        if n not in visited:\n",
    "            visited.append(n)\n",
    "            stack = list(graph_dict[n] - set(visited)) + stack\n",
    "            sorted(set(stack), key = lambda x: stack.index(x))\n",
    "            if len(stack) == max_num:\n",
    "                break\n",
    "            \n",
    "    return visited\n",
    "\n",
    "print(DFS(graph_list, start, vertex_num))"
   ]
  },
  {
   "cell_type": "markdown",
   "metadata": {},
   "source": [
    "### BFS"
   ]
  },
  {
   "cell_type": "code",
   "execution_count": 118,
   "metadata": {},
   "outputs": [
    {
     "name": "stdout",
     "output_type": "stream",
     "text": [
      "[1, 2, 3, 4]\n"
     ]
    }
   ],
   "source": [
    "from collections import deque\n",
    "\n",
    "def BFS(graph, root):\n",
    "    visited = []\n",
    "    queue = deque([root])\n",
    "    \n",
    "    graph_dict = {}\n",
    "    for items in graph: # 함수화 필요\n",
    "        for item in items:\n",
    "            if graph_dict.get(item) == None:\n",
    "                graph_dict[item] = set()\n",
    "            graph_dict[item].update(set(items) - set([item]))\n",
    "    \n",
    "    while queue:\n",
    "        n = queue.popleft()\n",
    "        if n not in visited:\n",
    "            visited.append(n)\n",
    "            queue += graph_dict[n] - set(visited)\n",
    "            \n",
    "    return visited\n",
    "\n",
    "print(BFS(graph_list, start))"
   ]
  },
  {
   "cell_type": "markdown",
   "metadata": {},
   "source": [
    "# RESULT\n",
    "- Timeout :(\n",
    "- Reference the other answer from blog: https://goplanit.site/42.%20Algorithm(1260_py)/\n",
    "- Result analysis\n",
    "  1) list sort process optimization  \n",
    "  2) recursion  "
   ]
  },
  {
   "cell_type": "code",
   "execution_count": null,
   "metadata": {},
   "outputs": [],
   "source": [
    "# Depth First Search\n",
    "def dfs(n):\n",
    "    print(n, end=' ')\n",
    "    visited[n] = True\n",
    "    for i in graph[n]:\n",
    "        if not visited[i]:\n",
    "            dfs(i)\n",
    "\n",
    "# Breadth First Search\n",
    "def bfs(n):\n",
    "    visited[n] = True\n",
    "    queue = deque([n])\n",
    "    while queue:\n",
    "        v = queue.popleft()\n",
    "        print(v, end= ' ')\n",
    "        for i in graph[v]:\n",
    "            if not visited[i]:\n",
    "                queue.append(i)\n",
    "                visited[i] = True\n",
    "\n",
    "import sys\n",
    "from collections import deque\n",
    "\n",
    "# node, branch, first node\n",
    "n, m, v = map(int, sys.stdin.readline().split())\n",
    "graph = [[] for _ in range(n+1)]\n",
    "visited = [False] * (n + 1)\n",
    "\n",
    "# make adjacency list\n",
    "for _ in range(m):\n",
    "    a, b = map(int, sys.stdin.readline().split())\n",
    "    graph[a].append(b)\n",
    "    graph[b].append(a)\n",
    "# sort adjacency list\n",
    "for i in range(1, n+1):\n",
    "    graph[i].sort()\n",
    "\n",
    "dfs(v)\n",
    "# initialize check list\n",
    "visited = [False] * (n + 1)\n",
    "print()\n",
    "bfs(v)"
   ]
  }
 ],
 "metadata": {
  "interpreter": {
   "hash": "a8f61be024eba58adef938c9aa1e29e02cb3dece83a5348b1a2dafd16a070453"
  },
  "kernelspec": {
   "display_name": "Python 3.8.3 64-bit ('base': conda)",
   "language": "python",
   "name": "python3"
  },
  "language_info": {
   "codemirror_mode": {
    "name": "ipython",
    "version": 3
   },
   "file_extension": ".py",
   "mimetype": "text/x-python",
   "name": "python",
   "nbconvert_exporter": "python",
   "pygments_lexer": "ipython3",
   "version": "3.8.3"
  },
  "orig_nbformat": 4
 },
 "nbformat": 4,
 "nbformat_minor": 2
}
