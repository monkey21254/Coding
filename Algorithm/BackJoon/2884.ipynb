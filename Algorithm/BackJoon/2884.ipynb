{
 "cells": [
  {
   "cell_type": "code",
   "execution_count": 8,
   "metadata": {},
   "outputs": [
    {
     "name": "stdout",
     "output_type": "stream",
     "text": [
      "23 45\n"
     ]
    }
   ],
   "source": [
    "def calc(Hour, Minute):\n",
    "    switch = False\n",
    "    if Minute < 45:\n",
    "        Minute = 60 - (45 - Minute)\n",
    "        switch = True\n",
    "    else:\n",
    "        Minute -= 45\n",
    "        \n",
    "    if Hour == 0 and switch == True:\n",
    "        return 23, Minute\n",
    "    elif Hour != 0 and switch == True:\n",
    "        return Hour-1, Minute\n",
    "    return Hour, Minute\n",
    "\n",
    "x = input()\n",
    "x1, x2 = x.split(' ')\n",
    "H1, M1 = int(x1), int(x2)\n",
    "\n",
    "H2, M2 = calc(H1, M1)\n",
    "print(H2, M2)"
   ]
  },
  {
   "cell_type": "code",
   "execution_count": null,
   "metadata": {},
   "outputs": [],
   "source": []
  }
 ],
 "metadata": {
  "interpreter": {
   "hash": "a8f61be024eba58adef938c9aa1e29e02cb3dece83a5348b1a2dafd16a070453"
  },
  "kernelspec": {
   "display_name": "Python 3.8.3 64-bit ('base': conda)",
   "language": "python",
   "name": "python3"
  },
  "language_info": {
   "codemirror_mode": {
    "name": "ipython",
    "version": 3
   },
   "file_extension": ".py",
   "mimetype": "text/x-python",
   "name": "python",
   "nbconvert_exporter": "python",
   "pygments_lexer": "ipython3",
   "version": "3.8.3"
  },
  "orig_nbformat": 4
 },
 "nbformat": 4,
 "nbformat_minor": 2
}
