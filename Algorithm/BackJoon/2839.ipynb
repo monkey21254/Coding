{
 "cells": [
  {
   "cell_type": "markdown",
   "metadata": {},
   "source": [
    "# GREEDY ALGORITHM"
   ]
  },
  {
   "cell_type": "code",
   "execution_count": 44,
   "metadata": {},
   "outputs": [
    {
     "name": "stdout",
     "output_type": "stream",
     "text": [
      "4\n"
     ]
    }
   ],
   "source": [
    "KG = input()\n",
    "BIGPOCKET = 5\n",
    "SMALLPOCKET = 3\n",
    "COUNT = 0\n",
    "\n",
    "try:\n",
    "    KG = int(KG)\n",
    "except Exception as e:\n",
    "    print(e)\n",
    "# finally:\n",
    "#     print(KG, type(KG))\n",
    "\n",
    "if isinstance(KG, int):\n",
    "    max_quotient = KG//BIGPOCKET + 1\n",
    "    j = max_quotient if KG%BIGPOCKET == 0 else \"-1\"\n",
    "    for i in range(max_quotient):\n",
    "        residual = KG - i*BIGPOCKET\n",
    "        if residual%SMALLPOCKET == 0:\n",
    "            j = str(i + residual//SMALLPOCKET)\n",
    "        \n",
    "    print(j)"
   ]
  }
 ],
 "metadata": {
  "interpreter": {
   "hash": "3a61b7b83e458b12ef92bcb36bb1978123ef214920c2173bd2b9a204e4ae1c20"
  },
  "kernelspec": {
   "display_name": "Python 3.9.1 64-bit",
   "language": "python",
   "name": "python3"
  },
  "language_info": {
   "codemirror_mode": {
    "name": "ipython",
    "version": 3
   },
   "file_extension": ".py",
   "mimetype": "text/x-python",
   "name": "python",
   "nbconvert_exporter": "python",
   "pygments_lexer": "ipython3",
   "version": "3.9.1"
  },
  "orig_nbformat": 4
 },
 "nbformat": 4,
 "nbformat_minor": 2
}
