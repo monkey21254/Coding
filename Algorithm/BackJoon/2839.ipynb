{
 "cells": [
  {
   "cell_type": "markdown",
   "metadata": {},
   "source": [
    "# GREEDY ALGORITHM\n",
    "\n",
    "[ 설탕 배달 ]\n",
    "- 문제  \n",
    "  : 상근이는 요즘 설탕공장에서 설탕을 배달하고 있다. 상근이는 지금 사탕가게에 설탕을 정확하게 N킬로그램을 배달해야 한다. 설탕공장에서 만드는 설탕은 봉지에 담겨져 있다. 봉지는 3킬로그램 봉지와 5킬로그램 봉지가 있다.\n",
    "  상근이는 귀찮기 때문에, 최대한 적은 봉지를 들고 가려고 한다. 예를 들어, 18킬로그램 설탕을 배달해야 할 때, 3킬로그램 봉지 6개를 가져가도 되지만, 5킬로그램 3개와 3킬로그램 1개를 배달하면, 더 적은 개수의 봉지를 배달할 수 있다.\n",
    "  상근이가 설탕을 정확하게 N킬로그램 배달해야 할 때, 봉지 몇 개를 가져가면 되는지 그 수를 구하는 프로그램을 작성하시오. \n",
    "  \n",
    "- 입력: 첫째 줄에 N이 주어진다. (3 ≤ N ≤ 5000)\n",
    "- 출력: 상근이가 배달하는 봉지의 최소 개수를 출력한다. 만약, 정확하게 N킬로그램을 만들 수 없다면 -1을 출력한다."
   ]
  },
  {
   "cell_type": "code",
   "execution_count": 44,
   "metadata": {},
   "outputs": [
    {
     "name": "stdout",
     "output_type": "stream",
     "text": [
      "4\n"
     ]
    }
   ],
   "source": [
    "KG = input()\n",
    "BIGPOCKET = 5\n",
    "SMALLPOCKET = 3\n",
    "COUNT = 0\n",
    "\n",
    "try:\n",
    "    KG = int(KG)\n",
    "except Exception as e:\n",
    "    print(e)\n",
    "# finally:\n",
    "#     print(KG, type(KG))\n",
    "\n",
    "if isinstance(KG, int):\n",
    "    max_quotient = KG//BIGPOCKET + 1\n",
    "    j = max_quotient if KG%BIGPOCKET == 0 else \"-1\"\n",
    "    for i in range(max_quotient):\n",
    "        residual = KG - i*BIGPOCKET\n",
    "        if residual%SMALLPOCKET == 0:\n",
    "            j = str(i + residual//SMALLPOCKET)\n",
    "        \n",
    "    print(j)"
   ]
  }
 ],
 "metadata": {
  "interpreter": {
   "hash": "3a61b7b83e458b12ef92bcb36bb1978123ef214920c2173bd2b9a204e4ae1c20"
  },
  "kernelspec": {
   "display_name": "Python 3.9.1 64-bit",
   "language": "python",
   "name": "python3"
  },
  "language_info": {
   "codemirror_mode": {
    "name": "ipython",
    "version": 3
   },
   "file_extension": ".py",
   "mimetype": "text/x-python",
   "name": "python",
   "nbconvert_exporter": "python",
   "pygments_lexer": "ipython3",
   "version": "3.9.1"
  },
  "orig_nbformat": 4
 },
 "nbformat": 4,
 "nbformat_minor": 2
}
