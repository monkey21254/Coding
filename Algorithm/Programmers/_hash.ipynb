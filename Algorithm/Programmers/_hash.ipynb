{
 "cells": [
  {
   "cell_type": "markdown",
   "metadata": {},
   "source": [
    "# Q4"
   ]
  },
  {
   "cell_type": "code",
   "execution_count": 1,
   "metadata": {},
   "outputs": [],
   "source": [
    "def solution(clothes):\n",
    "    answer = 1\n",
    "    dict1 = dict()\n",
    "    for category, division in clothes:\n",
    "        if dict1.get(division) != None:\n",
    "            dict1[division] += 1\n",
    "        else:\n",
    "            dict1[division] = 1\n",
    "    \n",
    "    list1 = list()\n",
    "    for key, item in dict1.items():\n",
    "        list1.append(item)\n",
    "\n",
    "    for i in list1:\n",
    "        answer *= i + 1\n",
    "    \n",
    "    return answer - 1"
   ]
  },
  {
   "cell_type": "markdown",
   "metadata": {},
   "source": [
    "### Other Solution (Someone make it)"
   ]
  },
  {
   "cell_type": "code",
   "execution_count": null,
   "metadata": {},
   "outputs": [],
   "source": [
    "def solution(clothes):\n",
    "    from collections import Counter\n",
    "    from functools import reduce\n",
    "    cnt = Counter([kind for name, kind in clothes])\n",
    "    answer = reduce(lambda x, y: x*(y+1), cnt.values(), 1) - 1\n",
    "    return answer"
   ]
  },
  {
   "cell_type": "markdown",
   "metadata": {},
   "source": [
    "###    *from collections import Counter\n",
    "__Python docs__: https://docs.python.org/ko/3/library/collections.html#collections.Counter"
   ]
  },
  {
   "cell_type": "markdown",
   "metadata": {},
   "source": [
    "#### __Counter__:\n",
    "    - Dict's subclass for count hashable object.  \n",
    "    - Elements save to dictionary's key.  \n",
    "    - Numbers save to dictionary's value. \n",
    "\n",
    "  [METHODS]\n",
    "  - elements()\n",
    "  - most_common([n])\n",
    "  - subtract([iterable-or-mapping])\n",
    "  - total()\n",
    "  - update([iterable-or-mapping])"
   ]
  },
  {
   "cell_type": "markdown",
   "metadata": {},
   "source": [
    "### *from functools import reduce\n",
    "__Python docs__: https://docs.python.org/3/library/functools.html"
   ]
  },
  {
   "cell_type": "markdown",
   "metadata": {},
   "source": [
    "```\n",
    "def reduce(function, iterable, initializer=None):\n",
    "    it = iter(iterable) \n",
    "    if initializer is None: \n",
    "        value = next(it)    \n",
    "    else:       \n",
    "        value = initializer \n",
    "    for element in it:  \n",
    "        value = function(value, element)    \n",
    "    return value\n",
    "```"
   ]
  },
  {
   "cell_type": "code",
   "execution_count": 9,
   "metadata": {},
   "outputs": [
    {
     "data": {
      "text/plain": [
       "15"
      ]
     },
     "execution_count": 9,
     "metadata": {},
     "output_type": "execute_result"
    }
   ],
   "source": [
    "from functools import reduce\n",
    "\n",
    "reduce(lambda x, y: x+y, [1, 2, 3, 4, 5])"
   ]
  },
  {
   "cell_type": "code",
   "execution_count": null,
   "metadata": {},
   "outputs": [],
   "source": [
    "def solution(clothes):\n",
    "    answer = 1\n",
    "    dict1 = dict()\n",
    "    for category, division in clothes:\n",
    "        if dict1.get(division) != None:\n",
    "            dict1[division] += 1\n",
    "        else:\n",
    "            dict1[division] = 1\n",
    "            \n",
    "    from functools import reduce\n",
    "    answer = reduce(lambda x, y: x*(y+1), dict1.values(), 1) -1\n",
    "    \n",
    "    return answer"
   ]
  }
 ],
 "metadata": {
  "interpreter": {
   "hash": "a8f61be024eba58adef938c9aa1e29e02cb3dece83a5348b1a2dafd16a070453"
  },
  "kernelspec": {
   "display_name": "Python 3.8.3 64-bit ('base': conda)",
   "language": "python",
   "name": "python3"
  },
  "language_info": {
   "codemirror_mode": {
    "name": "ipython",
    "version": 3
   },
   "file_extension": ".py",
   "mimetype": "text/x-python",
   "name": "python",
   "nbconvert_exporter": "python",
   "pygments_lexer": "ipython3",
   "version": "3.8.3"
  },
  "orig_nbformat": 4
 },
 "nbformat": 4,
 "nbformat_minor": 2
}
